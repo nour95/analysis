{
 "cells": [
  {
   "cell_type": "code",
   "execution_count": 1,
   "metadata": {},
   "outputs": [
    {
     "name": "stderr",
     "output_type": "stream",
     "text": [
      "In /home/nour/.local/lib/python3.6/site-packages/matplotlib/mpl-data/stylelib/_classic_test.mplstyle: \n",
      "The savefig.frameon rcparam was deprecated in Matplotlib 3.1 and will be removed in 3.3.\n",
      "In /home/nour/.local/lib/python3.6/site-packages/matplotlib/mpl-data/stylelib/_classic_test.mplstyle: \n",
      "The verbose.level rcparam was deprecated in Matplotlib 3.1 and will be removed in 3.3.\n",
      "In /home/nour/.local/lib/python3.6/site-packages/matplotlib/mpl-data/stylelib/_classic_test.mplstyle: \n",
      "The verbose.fileo rcparam was deprecated in Matplotlib 3.1 and will be removed in 3.3.\n"
     ]
    },
    {
     "name": "stdout",
     "output_type": "stream",
     "text": [
      "['6', '21', '16', '1', '22', '20', '26', '8', '12', '28', '2', '11', '13', '15', '27', '7', '4', '23', '17', '0', '25', '19', '18', '5', '24', '14', '3', '10', '9']\n"
     ]
    }
   ],
   "source": [
    "import os \n",
    "import csv\n",
    "import pandas as pd\n",
    "import numpy as np\n",
    "import matplotlib\n",
    "import matplotlib.pyplot as plt\n",
    "from general_plot import *\n",
    "\n",
    "\n",
    "\n",
    "model_name = model_name_list[0] #JavaSocket\n",
    "all_mutants = list_dir(join_path(\"merged_mutants\", f'{system_map[model_name][0]}'))\n",
    "\n",
    "print(all_mutants)\n",
    "\n"
   ]
  },
  {
   "cell_type": "code",
   "execution_count": 2,
   "metadata": {},
   "outputs": [],
   "source": [
    "bes_lo_k_csv = pd.read_csv(os.path.join('csvs', f'killed_{model_name}_bes_loops.csv'))\n",
    "rand_lo_k_csv = pd.read_csv(os.path.join('csvs', f'killed_{model_name}_random_loops.csv'))\n",
    "\n",
    "bes_no_lo_k_csv = pd.read_csv(os.path.join('csvs', f'killed_{model_name}_bes_no_loops.csv'))\n",
    "rand_no_lo_k_csv = pd.read_csv(os.path.join('csvs', f'killed_{model_name}_random_no_loops.csv'))\n",
    "\n",
    "dfs = (bes_lo_k_csv, rand_lo_k_csv, bes_no_lo_k_csv, rand_no_lo_k_csv )"
   ]
  },
  {
   "cell_type": "code",
   "execution_count": 3,
   "metadata": {},
   "outputs": [],
   "source": [
    "#calculate mutation score for each model = killed / all mutants\n",
    "# TODO ....\n",
    "\n"
   ]
  },
  {
   "cell_type": "code",
   "execution_count": 4,
   "metadata": {},
   "outputs": [
    {
     "name": "stdout",
     "output_type": "stream",
     "text": [
      "0\n",
      "bes_loop_killed_mutant:     ['0', '1', '3', '22', '23', '24', '25', '27', '28']\n",
      "rand_loop_killed_mutant:    ['0', '1', '3', '22', '23', '24', '25', '27', '28']\n",
      "bes_no_loop_killed_mutant:  ['0', '1', '3', '22', '23', '24', '25']\n",
      "rand_no_loop_killed_mutant: ['0', '1', '3', '22', '23', '24', '25', '27', '28']\n",
      "-----------------------------------------------\n",
      "bes_loop_actual_tests:     [4.0, 4.0, 4.0, 4.0, 1.0, 4.0, 5.0, 3.0, 190.0]\n",
      "rand_loop_actual_tests:    [1.0, 1.0, 1.0, 1.0, 1.0, 1.0, 1.0, 27.0, 121.0]\n",
      "bes_no_loop_actual_tests:  [4.0, 4.0, 4.0, 4.0, 1.0, 4.0, 5.0]\n",
      "rand_no_loop_actual_tests: [1.0, 1.0, 1.0, 1.0, 1.0, 1.0, 1.0, 8.0, 70.0]\n",
      "-----------------------------------------------\n",
      "index= 7 not in list\n",
      "index= 8 not in list\n",
      "bes_loop_killed_mutant:     ['0', '1', '3', '22', '23', '24', '25', '27', '28']\n",
      "rand_loop_killed_mutant:    ['0', '1', '3', '22', '23', '24', '25', '27', '28']\n",
      "bes_no_loop_killed_mutant:  ['0', '1', '3', '22', '23', '24', '25', '-1', '-1']\n",
      "rand_no_loop_killed_mutant: ['0', '1', '3', '22', '23', '24', '25', '27', '28']\n",
      "-----------------------------------------------\n",
      "bes_loop_actual_tests:     [4.0, 4.0, 4.0, 4.0, 1.0, 4.0, 5.0, 3.0, 190.0]\n",
      "rand_loop_actual_tests:    [1.0, 1.0, 1.0, 1.0, 1.0, 1.0, 1.0, 27.0, 121.0]\n",
      "bes_no_loop_actual_tests:  [4.0, 4.0, 4.0, 4.0, 1.0, 4.0, 5.0, 0.0, 0.0]\n",
      "rand_no_loop_actual_tests: [1.0, 1.0, 1.0, 1.0, 1.0, 1.0, 1.0, 8.0, 70.0]\n",
      "-----------------------------------------------\n"
     ]
    }
   ],
   "source": [
    "m_lists = get_killed_mutant_all(dfs)\n",
    "(bes_m_l_list, rand_m_l_list, bes_m_no_l_list, rand_m_no_l_list) = m_lists \n",
    "\n",
    "\n",
    "creteria =  'actual_tests'# 'time_taken' # 'actual_tests'\n",
    "c_lists = get_cretiera_all(dfs, creteria)\n",
    "(bes_lo_c, rand_lo_c, bes_no_lo_c, rand_no_lo_c) = c_lists\n",
    "\n",
    "# bes_lo_c = get_float_column(bes_lo_k_csv, creteria)\n",
    "# rand_lo_c = get_killed_mutant_array(rand_lo_k_csv) \n",
    "# bes_no_lo_c = get_float_column(bes_no_lo_k_csv, creteria)\n",
    "# rand_no_lo_c = get_float_column(rand_no_lo_k_csv, creteria)\n",
    "\n",
    "# m_lists = (bes_m_l_list, rand_m_l_list, bes_m_no_l_list, rand_m_no_l_list)\n",
    "# c_lists = (bes_lo_c, rand_lo_c, bes_no_lo_c, rand_no_lo_c)\n",
    "\n",
    "biggest = prepare_plottting(m_lists, c_lists, creteria)\n",
    "\n",
    "    \n",
    "\n",
    "# bes_m_no_l_list = ['0', '1', '3', '22', '25']\n",
    "\n",
    "# # make_same_size_lists(m_lists[biggest], bes_m_no_l_list, bes_no_lo_k)\n",
    "# print(rand_m_no_l_list)\n",
    "# make_same_size_lists(m_lists[biggest], rand_m_no_l_list, rand_m_no_k)\n",
    "\n",
    "# print(bes_m_no_l_list)\n",
    "# print(rand_m_no_l_list)\n",
    "# [4.0, 4.0, 4.0, 4.0, 1.0, 4.0, 5.0, 3.0, 190.0]\n",
    "# no_loops: [4.0, 4.0, 4.0, 4.0, 0.0, 0.0, 1.0, 0.0, 0.0, 4.0, 5.0]\n",
    "# biggest:  ['0', '1', '3', '22', '23', '24', '25', '27', '28']\n",
    "# missing:  ['0', '1', '3', '22', '-1', '-1', '25', '-1', '-1']"
   ]
  },
  {
   "cell_type": "code",
   "execution_count": 61,
   "metadata": {},
   "outputs": [
    {
     "name": "stdout",
     "output_type": "stream",
     "text": [
      " desired_list: [4, 4, 190]\n"
     ]
    }
   ],
   "source": [
    "def filter_desired_m_by_list(csv_file, desired_mutants,creteria ):\n",
    "    only_desired_mutant_df = csv_file[csv_file['mutant_number'].isin(desired_mutants)]\n",
    "    desired_c_list = only_desired_mutant_df[creteria].tolist()\n",
    "    \n",
    "    print(f' old desired_list: {desired_c_list}')\n",
    "    return desired_c_list\n",
    "\n",
    "def filter_desired_m_and_fix(csv_file, desired_mutants,creteria, otherwise_value):\n",
    "    \n",
    "    existed_mutants_list = csv_file['mutant_number'].tolist()\n",
    "    desired_c_list = []\n",
    "    for m in desired_mutants:\n",
    "        if int(m) in existed_mutants_list:\n",
    "            c = csv_file[csv_file['mutant_number'] == int(m)][creteria].values[0]\n",
    "            desired_c_list.append(c)\n",
    "            print(f'founded c: {c}')\n",
    "\n",
    "        else: \n",
    "            desired_c_list.append(otherwise_value)\n",
    "            print('not_found')\n",
    "            \n",
    "    return desired_c_list\n",
    "\n",
    "\n",
    "desired_mutants = ['0', '22', '50', '28']\n",
    "\n",
    "creteria =  'actual_tests'# 'time_taken' # 'actual_tests'\n",
    "\n",
    "desired_c_list = filter_desired_m_and_fix(csv_file, desired_mutants,creteria, otherwise_value):\n",
    "        \n",
    "print(f' desired_list: {desired_c_list}')\n",
    "\n",
    "\n",
    "\n",
    "# print(x)\n",
    "\n",
    "    \n",
    "    "
   ]
  },
  {
   "cell_type": "code",
   "execution_count": 5,
   "metadata": {},
   "outputs": [
    {
     "name": "stdout",
     "output_type": "stream",
     "text": [
      "Hello\n",
      "[4.0, 4.0, 4.0, 4.0, 1.0, 4.0, 5.0, 3.0, 190.0]\n",
      "[1.0, 1.0, 1.0, 1.0, 1.0, 1.0, 1.0, 27.0, 121.0]\n",
      "[4.0, 4.0, 4.0, 4.0, 1.0, 4.0, 5.0, 0.0, 0.0]\n",
      "[1.0, 1.0, 1.0, 1.0, 1.0, 1.0, 1.0, 8.0, 70.0]\n"
     ]
    },
    {
     "data": {
      "image/png": "[encoded data removed]",
      "text/plain": [
       "<Figure size 720x360 with 1 Axes>"
      ]
     },
     "metadata": {
      "needs_background": "light"
     },
     "output_type": "display_data"
    }
   ],
   "source": [
    "\n",
    "#\n",
    "print(\"Hello\")\n",
    "creteria =  'actual_tests'# 'time_taken' # 'actual_tests'\n",
    "\n",
    "d_map = {\n",
    "    'bar_width' : 0.5, \n",
    "    'x_label': 'mutant killed', \n",
    "    'y_label': creteria, #TODO \n",
    "    'title': 'test',\n",
    "    'bes_label': 'bes_loops',\n",
    "    'random_label': 'random_loops'\n",
    "    \n",
    "}\n",
    "\n",
    "# biggest = prepare_plottting(m_lists, c_lists, creteria)\n",
    "labels = m_lists[biggest]  \n",
    "\n",
    "plot_4_bars(labels, c_lists, d_map)\n",
    "\n",
    "    "
   ]
  },
  {
   "cell_type": "code",
   "execution_count": 6,
   "metadata": {},
   "outputs": [],
   "source": [
    "def diff_killed_mutants(bes_killed_df, rand_killed_df):\n",
    "    bes_killed = sorted(bes_killed_df.tolist())\n",
    "    rand_killed = sorted(rand_killed_df.tolist())\n",
    "    \n",
    "    print(f\"bes:  {bes_killed}\")\n",
    "    print(\"------------------\")\n",
    "    print(f\"rand: {rand_killed}\")\n",
    "    print(\"------------------\")\n",
    "\n",
    "    diff = list(set(bes_killed).symmetric_difference(set(rand_killed))) \n",
    "    print(f\"The mutant/s: {diff} \\nhas been kiled by bes/random and not the other\")\n",
    "    \n",
    "    return diff\n",
    "\n",
    "def get_mutation_score(csv_file, all_mutants):\n",
    "    killed_mutants = csv_file['mutant_number'].tolist()\n",
    "    return len(killed_mutants) / len(all_mutants)\n",
    "    \n",
    "# bes_killed_csv = pd.read_csv(os.path.join('csvs', 'killed_SimpleModel_bes_loops.csv'))\n",
    "# rand_killed_csv = pd.read_csv(os.path.join('csvs', 'killed_SimpleModel_random_loops.csv'))\n",
    "\n",
    "# diff_killed_mutants(bes_killed_csv['mutant_number'], rand_killed_csv['mutant_number'])\n"
   ]
  },
  {
   "cell_type": "code",
   "execution_count": 7,
   "metadata": {},
   "outputs": [],
   "source": [
    "# def get_killed_mutant_number(csv_file, model_name):\n",
    "#     all_mutants = [p for p in os.listdir(os.path.join(\"merged_mutants\", \n",
    "#                     f'{system_map[model_name]}')) if p[0] != '.']\n",
    "    \n",
    "#     killed_m_nr = bes_file['mutant_number']\n",
    "#     killed_m_n = filter_frame_array(bes_killed_csv, 'killed_mutant', 'mutant_number')\n",
    "\n",
    "    \n",
    "#     return (len(all_mutants), len(killed_m_nr))\n"
   ]
  },
  {
   "cell_type": "code",
   "execution_count": 8,
   "metadata": {},
   "outputs": [
    {
     "ename": "NameError",
     "evalue": "name 'bes_killed_csv' is not defined",
     "output_type": "error",
     "traceback": [
      "\u001b[0;31m---------------------------------------------------------------------------\u001b[0m",
      "\u001b[0;31mNameError\u001b[0m                                 Traceback (most recent call last)",
      "\u001b[0;32m<ipython-input-8-b2a349bed853>\u001b[0m in \u001b[0;36m<module>\u001b[0;34m\u001b[0m\n\u001b[1;32m      2\u001b[0m \u001b[0;34m\u001b[0m\u001b[0m\n\u001b[1;32m      3\u001b[0m \u001b[0;34m\u001b[0m\u001b[0m\n\u001b[0;32m----> 4\u001b[0;31m \u001b[0mall_killed_m_number\u001b[0m \u001b[0;34m=\u001b[0m \u001b[0mbes_killed_csv\u001b[0m\u001b[0;34m[\u001b[0m\u001b[0;34m'mutant_number'\u001b[0m\u001b[0;34m]\u001b[0m\u001b[0;34m\u001b[0m\u001b[0;34m\u001b[0m\u001b[0m\n\u001b[0m\u001b[1;32m      5\u001b[0m \u001b[0;31m# a_l = list(all_killed_m_number)\u001b[0m\u001b[0;34m\u001b[0m\u001b[0;34m\u001b[0m\u001b[0;34m\u001b[0m\u001b[0m\n\u001b[1;32m      6\u001b[0m \u001b[0ma_a\u001b[0m \u001b[0;34m=\u001b[0m \u001b[0mall_killed_m_number\u001b[0m\u001b[0;34m.\u001b[0m\u001b[0mto_numpy\u001b[0m\u001b[0;34m(\u001b[0m\u001b[0;34m)\u001b[0m\u001b[0;34m\u001b[0m\u001b[0;34m\u001b[0m\u001b[0m\n",
      "\u001b[0;31mNameError\u001b[0m: name 'bes_killed_csv' is not defined"
     ]
    }
   ],
   "source": [
    "# df[df['A'].isin([3, 6])] filter ysing a list\n",
    "\n",
    "\n",
    "all_killed_m_number = bes_killed_csv['mutant_number']\n",
    "# a_l = list(all_killed_m_number)\n",
    "a_a = all_killed_m_number.to_numpy()\n",
    "\n",
    "# unique = []\n",
    "# for m in a_a:\n",
    "#     if m in unique:\n",
    "#         print(\"[WARNING] to data has same value\")\n",
    "#     else: \n",
    "#         unique.append(m)\n",
    "\n"
   ]
  },
  {
   "cell_type": "code",
   "execution_count": null,
   "metadata": {},
   "outputs": [],
   "source": [
    "\n",
    "labels = convert_int_arr_to_str(killed_m_n) #['G1', 'G2', 'G3', 'G4', 'G5']\n",
    "men_means = convert_str_arr_to_int(actual_sizes) #[20, 34, 30, 35, 27]\n",
    "# women_means = [25, 32, 34, 20, 25]\n",
    "\n",
    "x = np.arange(len(labels))  # the label locations\n",
    "width = 0.35  # the width of the bars\n",
    "\n",
    "fig, ax = plt.subplots()\n",
    "rects1 = ax.bar(x - width/2, men_means, width, label='Men')\n",
    "# rects2 = ax.bar(x + width/2, women_means, width, label='Women')\n",
    "\n",
    "# Add some text for labels, title and custom x-axis tick labels, etc.\n",
    "ax.set_ylabel('Scores')\n",
    "ax.set_title('Scores by group and gender')\n",
    "ax.set_xticks(x)\n",
    "ax.set_xticklabels(labels)\n",
    "ax.legend()\n",
    "\n",
    "# ax.bar_label(rects1, padding=3)\n",
    "# ax.bar_label(rects2, padding=3)\n",
    "\n",
    "fig.tight_layout()\n",
    "\n",
    "plt.show()\n",
    "\n",
    "\n",
    "\n"
   ]
  },
  {
   "cell_type": "code",
   "execution_count": null,
   "metadata": {},
   "outputs": [],
   "source": [
    "\n",
    "# labels = ['G1', 'G2', 'G3', 'G4', 'G5']\n",
    "# men_means = [20, 34, 30, 35, 27]\n",
    "# women_means = [25, 32, 34, 20, 25]\n",
    "\n",
    "# x = np.arange(len(labels))  # the label locations\n",
    "# width = 0.35  # the width of the bars\n",
    "\n",
    "# fig, ax = plt.subplots()\n",
    "# rects1 = ax.bar(x - width/2, men_means, width, label='Men')\n",
    "# rects2 = ax.bar(x + width/2, women_means, width, label='Women')\n",
    "\n",
    "# # Add some text for labels, title and custom x-axis tick labels, etc.\n",
    "# ax.set_ylabel('Scores')\n",
    "# ax.set_title('Scores by group and gender')\n",
    "# ax.set_xticks(x)\n",
    "# ax.set_xticklabels(labels)\n",
    "# ax.legend()\n",
    "\n",
    "# # ax.bar_label(rects1, padding=3)\n",
    "# # ax.bar_label(rects2, padding=3)\n",
    "\n",
    "# fig.tight_layout()\n",
    "\n",
    "# plt.show()"
   ]
  }
 ],
 "metadata": {
  "kernelspec": {
   "display_name": "Python 3",
   "language": "python",
   "name": "python3"
  },
  "language_info": {
   "codemirror_mode": {
    "name": "ipython",
    "version": 3
   },
   "file_extension": ".py",
   "mimetype": "text/x-python",
   "name": "python",
   "nbconvert_exporter": "python",
   "pygments_lexer": "ipython3",
   "version": "3.6.8"
  }
 },
 "nbformat": 4,
 "nbformat_minor": 4
}
