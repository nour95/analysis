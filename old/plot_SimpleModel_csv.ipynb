{
 "cells": [
  {
   "cell_type": "code",
   "execution_count": 1,
   "id": "a81555c9",
   "metadata": {},
   "outputs": [],
   "source": [
    "import os \n",
    "from general_plot import *\n",
    "\n",
    "model_name = model_name_list[2] \n"
   ]
  },
  {
   "cell_type": "code",
   "execution_count": 2,
   "id": "402dc8c4",
   "metadata": {},
   "outputs": [
    {
     "name": "stdout",
     "output_type": "stream",
     "text": [
      "[WARNING]: not equal number in x_axis, u_bes != u_random\n",
      "u_bes: [  1  50 100 150 200 250 300 350 400 450 500 550]\n",
      "u_random: [   2  101  201  301  401  501  601  701  801  901 1001 1101 1201]\n"
     ]
    },
    {
     "ename": "ValueError",
     "evalue": "List of boxplot statistics and `positions` values must have same the length",
     "output_type": "error",
     "traceback": [
      "\u001b[0;31m---------------------------------------------------------------------------\u001b[0m",
      "\u001b[0;31mValueError\u001b[0m                                Traceback (most recent call last)",
      "\u001b[0;32m<ipython-input-2-2080bf6fcea2>\u001b[0m in \u001b[0;36m<module>\u001b[0;34m\u001b[0m\n\u001b[1;32m     28\u001b[0m }\n\u001b[1;32m     29\u001b[0m \u001b[0;34m\u001b[0m\u001b[0m\n\u001b[0;32m---> 30\u001b[0;31m \u001b[0mcompare_bes_rand_given_y\u001b[0m\u001b[0;34m(\u001b[0m\u001b[0mbes_csv\u001b[0m\u001b[0;34m,\u001b[0m \u001b[0mrandom_csv\u001b[0m\u001b[0;34m,\u001b[0m \u001b[0;34m'depth'\u001b[0m\u001b[0;34m,\u001b[0m \u001b[0;34m'requested_size'\u001b[0m\u001b[0;34m,\u001b[0m \u001b[0;34m'nc'\u001b[0m\u001b[0;34m,\u001b[0m \u001b[0mu_bes\u001b[0m\u001b[0;34m,\u001b[0m \u001b[0mu_random\u001b[0m\u001b[0;34m,\u001b[0m \u001b[0mmap_bes\u001b[0m\u001b[0;34m,\u001b[0m \u001b[0mmap_rand\u001b[0m\u001b[0;34m)\u001b[0m\u001b[0;34m\u001b[0m\u001b[0;34m\u001b[0m\u001b[0m\n\u001b[0m\u001b[1;32m     31\u001b[0m \u001b[0;34m\u001b[0m\u001b[0m\n",
      "\u001b[0;32m~/Desktop/nour/kth/year5/period3/exJobb/analysis/simple_cov/analysis/general_plot.py\u001b[0m in \u001b[0;36mcompare_bes_rand_given_y\u001b[0;34m(bes_csv, rand_csv, bes_x_name, rand_x_name, y_common, bes_unique_list, rand_unique_list, map_bes, map_rand)\u001b[0m\n\u001b[1;32m    140\u001b[0m     prepare_sub_plot(ax1, bes_csv, bes_x_name, y_common,\n\u001b[1;32m    141\u001b[0m                      bes_unique_list, map_bes, 'bes')\n\u001b[0;32m--> 142\u001b[0;31m     prepare_sub_plot(ax2, rand_csv, rand_x_name, y_common,\n\u001b[0m\u001b[1;32m    143\u001b[0m                      rand_unique_list, map_rand, 'random')\n\u001b[1;32m    144\u001b[0m \u001b[0;34m\u001b[0m\u001b[0m\n",
      "\u001b[0;32m~/Desktop/nour/kth/year5/period3/exJobb/analysis/simple_cov/analysis/general_plot.py\u001b[0m in \u001b[0;36mprepare_sub_plot\u001b[0;34m(ax, csv_f, x_name, y_name, unique_list, data_map, graph_type)\u001b[0m\n\u001b[1;32m     98\u001b[0m         \u001b[0;31m# width = lambda p, w: 7**(np.log10(p)+w/2.)-7**(np.log10(p)-w/2.)\u001b[0m\u001b[0;34m\u001b[0m\u001b[0;34m\u001b[0m\u001b[0;34m\u001b[0m\u001b[0m\n\u001b[1;32m     99\u001b[0m \u001b[0;34m\u001b[0m\u001b[0m\n\u001b[0;32m--> 100\u001b[0;31m         bplot1 = ax.boxplot(all_data,\n\u001b[0m\u001b[1;32m    101\u001b[0m                         \u001b[0;31m# positions=[1, 2, 4, 6, 9, 12, 16, 20],  #pos,\u001b[0m\u001b[0;34m\u001b[0m\u001b[0;34m\u001b[0m\u001b[0;34m\u001b[0m\u001b[0m\n\u001b[1;32m    102\u001b[0m                         \u001b[0mpositions\u001b[0m\u001b[0;34m=\u001b[0m\u001b[0;34m[\u001b[0m\u001b[0;36m1\u001b[0m\u001b[0;34m,\u001b[0m \u001b[0;36m2\u001b[0m\u001b[0;34m,\u001b[0m \u001b[0;36m3.5\u001b[0m\u001b[0;34m,\u001b[0m \u001b[0;36m6\u001b[0m\u001b[0;34m,\u001b[0m \u001b[0;36m9\u001b[0m\u001b[0;34m,\u001b[0m \u001b[0;36m13\u001b[0m\u001b[0;34m,\u001b[0m \u001b[0;36m17.5\u001b[0m\u001b[0;34m,\u001b[0m \u001b[0;36m22.5\u001b[0m\u001b[0;34m]\u001b[0m\u001b[0;34m,\u001b[0m  \u001b[0;31m#pos,\u001b[0m\u001b[0;34m\u001b[0m\u001b[0;34m\u001b[0m\u001b[0m\n",
      "\u001b[0;32m/usr/local/lib/python3.9/site-packages/matplotlib/__init__.py\u001b[0m in \u001b[0;36minner\u001b[0;34m(ax, data, *args, **kwargs)\u001b[0m\n\u001b[1;32m   1359\u001b[0m     \u001b[0;32mdef\u001b[0m \u001b[0minner\u001b[0m\u001b[0;34m(\u001b[0m\u001b[0max\u001b[0m\u001b[0;34m,\u001b[0m \u001b[0;34m*\u001b[0m\u001b[0margs\u001b[0m\u001b[0;34m,\u001b[0m \u001b[0mdata\u001b[0m\u001b[0;34m=\u001b[0m\u001b[0;32mNone\u001b[0m\u001b[0;34m,\u001b[0m \u001b[0;34m**\u001b[0m\u001b[0mkwargs\u001b[0m\u001b[0;34m)\u001b[0m\u001b[0;34m:\u001b[0m\u001b[0;34m\u001b[0m\u001b[0;34m\u001b[0m\u001b[0m\n\u001b[1;32m   1360\u001b[0m         \u001b[0;32mif\u001b[0m \u001b[0mdata\u001b[0m \u001b[0;32mis\u001b[0m \u001b[0;32mNone\u001b[0m\u001b[0;34m:\u001b[0m\u001b[0;34m\u001b[0m\u001b[0;34m\u001b[0m\u001b[0m\n\u001b[0;32m-> 1361\u001b[0;31m             \u001b[0;32mreturn\u001b[0m \u001b[0mfunc\u001b[0m\u001b[0;34m(\u001b[0m\u001b[0max\u001b[0m\u001b[0;34m,\u001b[0m \u001b[0;34m*\u001b[0m\u001b[0mmap\u001b[0m\u001b[0;34m(\u001b[0m\u001b[0msanitize_sequence\u001b[0m\u001b[0;34m,\u001b[0m \u001b[0margs\u001b[0m\u001b[0;34m)\u001b[0m\u001b[0;34m,\u001b[0m \u001b[0;34m**\u001b[0m\u001b[0mkwargs\u001b[0m\u001b[0;34m)\u001b[0m\u001b[0;34m\u001b[0m\u001b[0;34m\u001b[0m\u001b[0m\n\u001b[0m\u001b[1;32m   1362\u001b[0m \u001b[0;34m\u001b[0m\u001b[0m\n\u001b[1;32m   1363\u001b[0m         \u001b[0mbound\u001b[0m \u001b[0;34m=\u001b[0m \u001b[0mnew_sig\u001b[0m\u001b[0;34m.\u001b[0m\u001b[0mbind\u001b[0m\u001b[0;34m(\u001b[0m\u001b[0max\u001b[0m\u001b[0;34m,\u001b[0m \u001b[0;34m*\u001b[0m\u001b[0margs\u001b[0m\u001b[0;34m,\u001b[0m \u001b[0;34m**\u001b[0m\u001b[0mkwargs\u001b[0m\u001b[0;34m)\u001b[0m\u001b[0;34m\u001b[0m\u001b[0;34m\u001b[0m\u001b[0m\n",
      "\u001b[0;32m/usr/local/lib/python3.9/site-packages/matplotlib/axes/_axes.py\u001b[0m in \u001b[0;36mboxplot\u001b[0;34m(self, x, notch, sym, vert, whis, positions, widths, patch_artist, bootstrap, usermedians, conf_intervals, meanline, showmeans, showcaps, showbox, showfliers, boxprops, labels, flierprops, medianprops, meanprops, capprops, whiskerprops, manage_ticks, autorange, zorder)\u001b[0m\n\u001b[1;32m   3839\u001b[0m                                 \u001b[0mstats\u001b[0m\u001b[0;34m[\u001b[0m\u001b[0;34m'cihi'\u001b[0m\u001b[0;34m]\u001b[0m \u001b[0;34m=\u001b[0m \u001b[0mci\u001b[0m\u001b[0;34m[\u001b[0m\u001b[0;36m1\u001b[0m\u001b[0;34m]\u001b[0m\u001b[0;34m\u001b[0m\u001b[0;34m\u001b[0m\u001b[0m\n\u001b[1;32m   3840\u001b[0m \u001b[0;34m\u001b[0m\u001b[0m\n\u001b[0;32m-> 3841\u001b[0;31m         artists = self.bxp(bxpstats, positions=positions, widths=widths,\n\u001b[0m\u001b[1;32m   3842\u001b[0m                            \u001b[0mvert\u001b[0m\u001b[0;34m=\u001b[0m\u001b[0mvert\u001b[0m\u001b[0;34m,\u001b[0m \u001b[0mpatch_artist\u001b[0m\u001b[0;34m=\u001b[0m\u001b[0mpatch_artist\u001b[0m\u001b[0;34m,\u001b[0m\u001b[0;34m\u001b[0m\u001b[0;34m\u001b[0m\u001b[0m\n\u001b[1;32m   3843\u001b[0m                            \u001b[0mshownotches\u001b[0m\u001b[0;34m=\u001b[0m\u001b[0mnotch\u001b[0m\u001b[0;34m,\u001b[0m \u001b[0mshowmeans\u001b[0m\u001b[0;34m=\u001b[0m\u001b[0mshowmeans\u001b[0m\u001b[0;34m,\u001b[0m\u001b[0;34m\u001b[0m\u001b[0;34m\u001b[0m\u001b[0m\n",
      "\u001b[0;32m/usr/local/lib/python3.9/site-packages/matplotlib/axes/_axes.py\u001b[0m in \u001b[0;36mbxp\u001b[0;34m(self, bxpstats, positions, widths, vert, patch_artist, shownotches, showmeans, showcaps, showbox, showfliers, boxprops, whiskerprops, flierprops, medianprops, capprops, meanprops, meanline, manage_ticks, zorder)\u001b[0m\n\u001b[1;32m   4085\u001b[0m             \u001b[0mpositions\u001b[0m \u001b[0;34m=\u001b[0m \u001b[0mlist\u001b[0m\u001b[0;34m(\u001b[0m\u001b[0mrange\u001b[0m\u001b[0;34m(\u001b[0m\u001b[0;36m1\u001b[0m\u001b[0;34m,\u001b[0m \u001b[0mN\u001b[0m \u001b[0;34m+\u001b[0m \u001b[0;36m1\u001b[0m\u001b[0;34m)\u001b[0m\u001b[0;34m)\u001b[0m\u001b[0;34m\u001b[0m\u001b[0;34m\u001b[0m\u001b[0m\n\u001b[1;32m   4086\u001b[0m         \u001b[0;32melif\u001b[0m \u001b[0mlen\u001b[0m\u001b[0;34m(\u001b[0m\u001b[0mpositions\u001b[0m\u001b[0;34m)\u001b[0m \u001b[0;34m!=\u001b[0m \u001b[0mN\u001b[0m\u001b[0;34m:\u001b[0m\u001b[0;34m\u001b[0m\u001b[0;34m\u001b[0m\u001b[0m\n\u001b[0;32m-> 4087\u001b[0;31m             \u001b[0;32mraise\u001b[0m \u001b[0mValueError\u001b[0m\u001b[0;34m(\u001b[0m\u001b[0mdatashape_message\u001b[0m\u001b[0;34m.\u001b[0m\u001b[0mformat\u001b[0m\u001b[0;34m(\u001b[0m\u001b[0;34m\"positions\"\u001b[0m\u001b[0;34m)\u001b[0m\u001b[0;34m)\u001b[0m\u001b[0;34m\u001b[0m\u001b[0;34m\u001b[0m\u001b[0m\n\u001b[0m\u001b[1;32m   4088\u001b[0m \u001b[0;34m\u001b[0m\u001b[0m\n\u001b[1;32m   4089\u001b[0m         \u001b[0mpositions\u001b[0m \u001b[0;34m=\u001b[0m \u001b[0mnp\u001b[0m\u001b[0;34m.\u001b[0m\u001b[0marray\u001b[0m\u001b[0;34m(\u001b[0m\u001b[0mpositions\u001b[0m\u001b[0;34m)\u001b[0m\u001b[0;34m\u001b[0m\u001b[0;34m\u001b[0m\u001b[0m\n",
      "\u001b[0;31mValueError\u001b[0m: List of boxplot statistics and `positions` values must have same the length"
     ]
    },
    {
     "data": {
      "image/png": "[encoded data removed]",
      "text/plain": [
       "<Figure size 1008x360 with 2 Axes>"
      ]
     },
     "metadata": {
      "needs_background": "light"
     },
     "output_type": "display_data"
    }
   ],
   "source": [
    "\n",
    "# repeat multi_times for each model and for each loopOpt\n",
    "# init\n",
    "loopOpt = False\n",
    "\n",
    "bes_csv, random_csv, u_bes, u_random =  get_csv_unique(model_name, loopOpt)\n",
    "\n",
    "\n",
    "#nc \n",
    "map_bes= {\n",
    "    'model_name': model_name,\n",
    "    'loopOpt': bool_to_str(loopOpt),\n",
    "    \n",
    "    'title': 'Node coverage (NC) for BES',\n",
    "    'x_label': 'Depths',\n",
    "    'y_label': 'NC',\n",
    "    'width_ratio': 1,\n",
    "    'distance_to_figures': 1\n",
    "}\n",
    "\n",
    "map_rand = {\n",
    "    'model_name': model_name,\n",
    "    'loopOpt': bool_to_str(loopOpt),\n",
    "\n",
    "    'title': 'Node coverage (NC) for RS',\n",
    "    'x_label': 'Test sizes',\n",
    "    'y_label': 'NC',\n",
    "    'width_ratio': 1.5\n",
    "}\n",
    "\n",
    "compare_bes_rand_given_y(bes_csv, random_csv, 'depth', 'requested_size', 'nc', u_bes, u_random, map_bes, map_rand)\n",
    "    "
   ]
  },
  {
   "cell_type": "code",
   "execution_count": null,
   "id": "5cd8c44d",
   "metadata": {},
   "outputs": [],
   "source": [
    "# ec \n",
    "coverage = 'EC'\n",
    "map_bes['title'] = f'Edge coverage ({coverage}) for BES'\n",
    "map_bes['y_label'] = coverage\n",
    "# 'width_ratio': 1\n",
    "\n",
    "map_rand['title'] = f'Edge coverage ({coverage}) for RS'\n",
    "map_rand['y_label'] = coverage\n",
    "# 'width_ratio': 1.5\n",
    "\n",
    "\n",
    "compare_bes_rand_given_y(bes_csv, random_csv, 'depth', 'requested_size', coverage.lower(),\n",
    "                         u_bes, u_random, map_bes, map_rand)\n",
    "\n"
   ]
  },
  {
   "cell_type": "code",
   "execution_count": null,
   "id": "27406af8",
   "metadata": {},
   "outputs": [],
   "source": [
    "# bc\n",
    "coverage = 'BC'  #TODO here bc are the same\n",
    "map_bes['title'] = f'Branch coverage ({coverage}) for BES'\n",
    "map_bes['y_label'] = coverage\n",
    "# 'width_ratio': 1\n",
    "\n",
    "map_rand['title'] = f'Branch coverage ({coverage}) for RS'\n",
    "map_rand['y_label'] = coverage\n",
    "# 'width_ratio': 1.5\n",
    "\n",
    "\n",
    "compare_bes_rand_given_y(bes_csv, random_csv, 'depth', 'requested_size', f'total_{coverage.lower()}',\n",
    "                         u_bes, u_random, map_bes, map_rand)\n",
    "    "
   ]
  },
  {
   "cell_type": "code",
   "execution_count": null,
   "id": "7e02e82c",
   "metadata": {},
   "outputs": [],
   "source": [
    "# ic\n",
    "coverage = 'IC'\n",
    "map_bes['title'] = f'Instruction coverage ({coverage}) for BES'\n",
    "map_bes['y_label'] = coverage\n",
    "# 'width_ratio': 1\n",
    "\n",
    "map_rand['title'] = f'Instruction coverage ({coverage}) for RS'\n",
    "map_rand['y_label'] = coverage\n",
    "# 'width_ratio': 1.5\n",
    "\n",
    "\n",
    "compare_bes_rand_given_y(bes_csv, random_csv, 'depth', 'requested_size', f'total_{coverage.lower()}',\n",
    "                         u_bes, u_random, map_bes, map_rand)\n",
    "    "
   ]
  },
  {
   "cell_type": "code",
   "execution_count": null,
   "id": "88fa9db3",
   "metadata": {},
   "outputs": [],
   "source": [
    "# total_test\n",
    "creteria = 'total_tests'\n",
    "map_bes['title'] = f'Total number of tests generated given the depth for BES'\n",
    "map_bes['y_label'] = 'Total test number'\n",
    "# 'width_ratio': 1\n",
    "map_bes['distance_to_figures'] = 1.05\n",
    "\n",
    "map_rand['title'] = f'Actual number of tests generated given the \\n total number of tests generated with BES for RS'\n",
    "map_rand['y_label'] = 'Actual test number'\n",
    "# 'width_ratio': 1.5\n",
    "\n",
    "total_tests = extract_unique_as_map(bes_csv, u_bes, 'depth', creteria)\n",
    "print_map(total_tests, 'depth')\n",
    "\n",
    "compare_bes_rand_given_y(bes_csv, random_csv, 'depth', 'requested_size', creteria,\n",
    "                         u_bes, u_random, map_bes, map_rand)"
   ]
  },
  {
   "cell_type": "code",
   "execution_count": null,
   "id": "02b860e8",
   "metadata": {},
   "outputs": [],
   "source": [
    "# time_taken\n",
    "creteria = 'time_taken'\n",
    "map_bes['title'] = f'Time taken for tests generated for BES'\n",
    "map_bes['y_label'] = 'Time taken'\n",
    "map_bes['distance_to_figures'] = 1\n",
    "\n",
    "map_rand['title'] = f'Time taken for tests generated given for RS'\n",
    "map_rand['y_label'] = 'Time taken'\n",
    "map_rand['width_ratio']: 1\n",
    "\n",
    "total_tests = extract_unique_as_map(bes_csv, u_bes, 'depth', creteria)\n",
    "# print_map(total_tests, 'depth')\n",
    "\n",
    "compare_bes_rand_given_y(bes_csv, random_csv, 'depth', 'requested_size', creteria,\n",
    "                         u_bes, u_random, map_bes, map_rand)\n",
    "\n"
   ]
  },
  {
   "cell_type": "code",
   "execution_count": null,
   "id": "c1f5c2de",
   "metadata": {},
   "outputs": [],
   "source": [
    "loopOpt = True\n",
    "\n",
    "bes_csv, random_csv, u_bes, u_random =  get_csv_unique(model_name, loopOpt)\n",
    "\n",
    "\n",
    "#nc \n",
    "map_bes= {\n",
    "    'model_name': model_name,\n",
    "    'loopOpt': bool_to_str(loopOpt),\n",
    "    \n",
    "    'title': 'Node coverage (NC) for BES',\n",
    "    'x_label': 'Depths',\n",
    "    'y_label': 'NC',\n",
    "    'width_ratio': 1,\n",
    "    'distance_to_figures':  1\n",
    "}\n",
    "\n",
    "map_rand = {\n",
    "    'model_name': model_name,\n",
    "    'loopOpt': bool_to_str(loopOpt),\n",
    "\n",
    "    'title': 'Node coverage (NC) for RS',\n",
    "    'x_label': 'Test sizes',\n",
    "    'y_label': 'NC',\n",
    "    'width_ratio': 1.5\n",
    "}\n",
    "\n",
    "compare_bes_rand_given_y(bes_csv, random_csv, 'depth', 'requested_size', 'nc', u_bes, u_random, map_bes, map_rand)\n",
    "    "
   ]
  },
  {
   "cell_type": "code",
   "execution_count": null,
   "id": "f5297b5b",
   "metadata": {},
   "outputs": [],
   "source": [
    "# ec \n",
    "coverage = 'EC'\n",
    "map_bes['title'] = f'Edge coverage ({coverage}) for BES'\n",
    "map_bes['y_label'] = coverage\n",
    "# 'width_ratio': 1\n",
    "\n",
    "map_rand['title'] = f'Edge coverage ({coverage}) for RS'\n",
    "map_rand['y_label'] = coverage\n",
    "# 'width_ratio': 1.5\n",
    "\n",
    "\n",
    "compare_bes_rand_given_y(bes_csv, random_csv, 'depth', 'requested_size', coverage.lower(),\n",
    "                         u_bes, u_random, map_bes, map_rand)\n",
    "\n"
   ]
  },
  {
   "cell_type": "code",
   "execution_count": null,
   "id": "86b66b6b",
   "metadata": {},
   "outputs": [],
   "source": [
    "# bc\n",
    "coverage = 'BC'  #TODO here bc are the same\n",
    "map_bes['title'] = f'Branch coverage ({coverage}) for BES'\n",
    "map_bes['y_label'] = coverage\n",
    "# 'width_ratio': 1\n",
    "\n",
    "map_rand['title'] = f'Branch coverage ({coverage}) for RS'\n",
    "map_rand['y_label'] = coverage\n",
    "# 'width_ratio': 1.5\n",
    "\n",
    "\n",
    "compare_bes_rand_given_y(bes_csv, random_csv, 'depth', 'requested_size', f'total_{coverage.lower()}',\n",
    "                         u_bes, u_random, map_bes, map_rand)\n",
    "    "
   ]
  },
  {
   "cell_type": "code",
   "execution_count": null,
   "id": "73d69fe0",
   "metadata": {},
   "outputs": [],
   "source": [
    "# ic\n",
    "coverage = 'IC'\n",
    "map_bes['title'] = f'Instruction coverage ({coverage}) for BES'\n",
    "map_bes['y_label'] = coverage\n",
    "# 'width_ratio': 1\n",
    "\n",
    "map_rand['title'] = f'Instruction coverage ({coverage}) for RS'\n",
    "map_rand['y_label'] = coverage\n",
    "# 'width_ratio': 1.5\n",
    "\n",
    "\n",
    "compare_bes_rand_given_y(bes_csv, random_csv, 'depth', 'requested_size', f'total_{coverage.lower()}',\n",
    "                         u_bes, u_random, map_bes, map_rand)\n",
    "    "
   ]
  },
  {
   "cell_type": "code",
   "execution_count": null,
   "id": "7f25499d",
   "metadata": {},
   "outputs": [],
   "source": [
    "# total_test\n",
    "creteria = 'total_tests'\n",
    "map_bes['title'] = f'Total number of tests generated given the depth for BES'\n",
    "map_bes['y_label'] = 'Total test number'\n",
    "# 'width_ratio': 1\n",
    "map_bes['distance_to_figures'] = 1.05\n",
    "\n",
    "map_rand['title'] = f'Actual number of tests generated given the \\n total number of tests generated with BES for RS'\n",
    "map_rand['y_label'] = 'Actual test number'\n",
    "# 'width_ratio': 1.5\n",
    "\n",
    "total_tests = extract_unique_as_map(bes_csv, u_bes, 'depth', creteria)\n",
    "print_map(total_tests, 'depth')\n",
    "\n",
    "compare_bes_rand_given_y(bes_csv, random_csv, 'depth', 'requested_size', creteria,\n",
    "                         u_bes, u_random, map_bes, map_rand)"
   ]
  },
  {
   "cell_type": "code",
   "execution_count": null,
   "id": "bf25eed9",
   "metadata": {},
   "outputs": [],
   "source": [
    "# time_taken\n",
    "creteria = 'time_taken'\n",
    "map_bes['title'] = f'Time taken for tests generated for BES'\n",
    "map_bes['y_label'] = 'Time taken'\n",
    "map_bes['distance_to_figures'] = 1\n",
    "\n",
    "map_rand['title'] = f'Time taken for tests generated given for RS'\n",
    "map_rand['y_label'] = 'Time taken'\n",
    "map_rand['width_ratio']: 1\n",
    "\n",
    "total_tests = extract_unique_as_map(bes_csv, u_bes, 'depth', creteria)\n",
    "# print_map(total_tests, 'depth')\n",
    "\n",
    "compare_bes_rand_given_y(bes_csv, random_csv, 'depth', 'requested_size', creteria,\n",
    "                         u_bes, u_random, map_bes, map_rand)\n",
    "\n"
   ]
  },
  {
   "cell_type": "code",
   "execution_count": null,
   "id": "fa886719",
   "metadata": {},
   "outputs": [],
   "source": [
    "# have a list of uniques depthes\n",
    "# then for each depth a box plot of coverage of it and the corresponding depth\n",
    "\n",
    "\n",
    "\n",
    "#make sure that the random didn't get a timeout before a depth\n",
    "\n",
    "\n",
    "\n",
    "\n",
    "\n"
   ]
  }
 ],
 "metadata": {
  "kernelspec": {
   "display_name": "Python 3",
   "language": "python",
   "name": "python3"
  },
  "language_info": {
   "codemirror_mode": {
    "name": "ipython",
    "version": 3
   },
   "file_extension": ".py",
   "mimetype": "text/x-python",
   "name": "python",
   "nbconvert_exporter": "python",
   "pygments_lexer": "ipython3",
   "version": "3.9.2"
  }
 },
 "nbformat": 4,
 "nbformat_minor": 5
}
