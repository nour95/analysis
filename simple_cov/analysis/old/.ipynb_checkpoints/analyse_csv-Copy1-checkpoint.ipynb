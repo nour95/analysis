{
 "cells": [
  {
   "cell_type": "code",
   "execution_count": 1,
   "metadata": {},
   "outputs": [
    {
     "name": "stderr",
     "output_type": "stream",
     "text": [
      "In /home/nour/.local/lib/python3.6/site-packages/matplotlib/mpl-data/stylelib/_classic_test.mplstyle: \n",
      "The savefig.frameon rcparam was deprecated in Matplotlib 3.1 and will be removed in 3.3.\n",
      "In /home/nour/.local/lib/python3.6/site-packages/matplotlib/mpl-data/stylelib/_classic_test.mplstyle: \n",
      "The verbose.level rcparam was deprecated in Matplotlib 3.1 and will be removed in 3.3.\n",
      "In /home/nour/.local/lib/python3.6/site-packages/matplotlib/mpl-data/stylelib/_classic_test.mplstyle: \n",
      "The verbose.fileo rcparam was deprecated in Matplotlib 3.1 and will be removed in 3.3.\n"
     ]
    }
   ],
   "source": [
    "import os \n",
    "import csv\n",
    "import pandas as pd\n",
    "import numpy as np\n",
    "import matplotlib.pyplot as plt\n",
    "\n",
    "model_name_list = [\n",
    "    'ElevatorModel',\n",
    "    'JavaNioServerSocket3'\n",
    "     , 'SimpleModel'\n",
    "]\n",
    "\n",
    "\n",
    "# system_map = {\n",
    "#     'ElevatorModel' : ['ElevatorSystem'], \n",
    "#     'JavaNioServerSocket3' : ['JavaNioServerSocket3SUT', 'JavaNioServerSocket3SUT.TestClient'], #TODO not sure\n",
    "#     'SimpleModel' : ['SimpleCounterBES']\n",
    "# }\n",
    "\n",
    "\n",
    "csv_general_path = f'csvs'\n",
    "want_to_extract = ['time_taken', 'total_tests', 'failed_tests', 'nc', 'ec', 'total_bc', 'total_ic', 'bc', 'ic']\n",
    "\n",
    "needed_data_as_table = ['trie_total_path', 'total_nodes', 'total_edges', 'node_covered', 'edge_covered']\n"
   ]
  },
  {
   "cell_type": "code",
   "execution_count": 2,
   "metadata": {},
   "outputs": [],
   "source": [
    "def get_unique_rows(csv, row_name):\n",
    "    return csv[row_name].unique()\n"
   ]
  },
  {
   "cell_type": "code",
   "execution_count": 3,
   "metadata": {},
   "outputs": [],
   "source": [
    "def extract_unique_as_array(csv_file, unique_depths, unique_field, by_field):\n",
    "    res = []\n",
    "    for depth in unique_depths:\n",
    "        list_unique = csv_file[csv_file[unique_field] == depth][by_field].tolist()\n",
    "#         if len(list_unique) > 1:\n",
    "#             print(\"WARNING: one depth has multiple sizes\")\n",
    "        res.append(np.array(list_unique))\n",
    "    return res\n"
   ]
  },
  {
   "cell_type": "code",
   "execution_count": 4,
   "metadata": {},
   "outputs": [],
   "source": [
    "def set_subplot_extra_options(ax, d_map):\n",
    "    #     ax.set_aspect('equal', adjustable='box')\n",
    "\n",
    "    ax.set_title(f\"{d_map['title']}\")\n",
    "    ax.set_xlabel(f\"{d_map['x_label']}\")\n",
    "    ax.set_ylabel(f\"{d_map['y_label']}\")\n",
    "#     ax.grid(True)\n",
    "#     fig.suptitle(\"suptitle\", y=0.68)\n",
    "#     ax.legend()\n",
    "#     plt.subplots_adjust()\n",
    "\n",
    "\n",
    "#     plt.axis('equal')\n",
    "#     x=np.linspace(-3,10,100)\n",
    "#     plt.axis('square')\n",
    "#     ax.set_xlim([0, 100])\n",
    "#     ax.plt.ylim()([0, 100])\n",
    "#     ax.set_ylabel(y_label)\n",
    "#     bp = elevator_bes_csv.boxplot(by ='depth', column =['nc'], grid = False)\n",
    "\n",
    "#     ax.plot(x, y, 'o', label=point_label)\n",
    "#     ax.plot(x, res.intercept + res.slope*x, 'r', label=f'p-value: {res.pvalue:.3e}')\n",
    "    "
   ]
  },
  {
   "cell_type": "code",
   "execution_count": 5,
   "metadata": {},
   "outputs": [],
   "source": [
    "\n",
    "def prepare_sub_plot(ax, csv_f, x_name, y_name, unique_list, data_map):\n",
    "    all_data = extract_unique_as_array(csv_f, unique_list, x_name, y_name)\n",
    "    labels = unique_list\n",
    "    bplot1 = ax.boxplot(all_data,\n",
    "#                          vert=True,  # vertical box alignment\n",
    "#                          patch_artist=True,  # fill with color\n",
    "                         labels=labels)  # will be used to label x-ticks\n",
    "#     set_subplot_extra_options(bplot1)\n",
    "    set_subplot_extra_options(ax, data_map)\n",
    "    \n",
    "#     ymin, ymax = plt.ylim()\n",
    "#     plt.ylim( 0.5, ymax * 0.5)\n",
    "  "
   ]
  },
  {
   "cell_type": "code",
   "execution_count": 7,
   "metadata": {},
   "outputs": [
    {
     "name": "stdout",
     "output_type": "stream",
     "text": [
      "[ 1  2  3  4  5  6  7  8  9 10 11 12 13]\n",
      "[    1     5    11    25    57   127   281   609  1315  2837  6117 13179\n",
      " 28389]\n"
     ]
    },
    {
     "ename": "KeyError",
     "evalue": "'title'",
     "output_type": "error",
     "traceback": [
      "\u001b[0;31m---------------------------------------------------------------------------\u001b[0m",
      "\u001b[0;31mKeyError\u001b[0m                                  Traceback (most recent call last)",
      "\u001b[0;32m<ipython-input-7-6bb662ccdd0b>\u001b[0m in \u001b[0;36m<module>\u001b[0;34m\u001b[0m\n\u001b[1;32m     33\u001b[0m \u001b[0mmap_rand\u001b[0m \u001b[0;34m=\u001b[0m \u001b[0;34m{\u001b[0m\u001b[0;34m}\u001b[0m\u001b[0;34m\u001b[0m\u001b[0;34m\u001b[0m\u001b[0m\n\u001b[1;32m     34\u001b[0m \u001b[0;34m\u001b[0m\u001b[0m\n\u001b[0;32m---> 35\u001b[0;31m \u001b[0mcompare_bes_rand_given_y\u001b[0m\u001b[0;34m(\u001b[0m\u001b[0mbes_csv\u001b[0m\u001b[0;34m,\u001b[0m \u001b[0mrandom_csv\u001b[0m\u001b[0;34m,\u001b[0m \u001b[0;34m'depth'\u001b[0m\u001b[0;34m,\u001b[0m \u001b[0;34m'requested_size'\u001b[0m\u001b[0;34m,\u001b[0m \u001b[0;34m'nc'\u001b[0m\u001b[0;34m,\u001b[0m \u001b[0mu_bes\u001b[0m\u001b[0;34m,\u001b[0m \u001b[0mu_random\u001b[0m\u001b[0;34m,\u001b[0m \u001b[0mmap_bes\u001b[0m\u001b[0;34m,\u001b[0m \u001b[0mmap_rand\u001b[0m\u001b[0;34m)\u001b[0m\u001b[0;34m\u001b[0m\u001b[0;34m\u001b[0m\u001b[0m\n\u001b[0m\u001b[1;32m     36\u001b[0m \u001b[0;34m\u001b[0m\u001b[0m\n\u001b[1;32m     37\u001b[0m \u001b[0;34m\u001b[0m\u001b[0m\n",
      "\u001b[0;32m<ipython-input-7-6bb662ccdd0b>\u001b[0m in \u001b[0;36mcompare_bes_rand_given_y\u001b[0;34m(bes_csv, rand_csv, bes_x_name, rand_x_name, y_common, bes_unique_list, rand_unique_list, map_bes, map_rand)\u001b[0m\n\u001b[1;32m      7\u001b[0m \u001b[0;34m\u001b[0m\u001b[0m\n\u001b[1;32m      8\u001b[0m     \u001b[0mprepare_sub_plot\u001b[0m\u001b[0;34m(\u001b[0m\u001b[0max1\u001b[0m\u001b[0;34m,\u001b[0m \u001b[0mbes_csv\u001b[0m\u001b[0;34m,\u001b[0m \u001b[0mbes_x_name\u001b[0m\u001b[0;34m,\u001b[0m \u001b[0my_common\u001b[0m\u001b[0;34m,\u001b[0m \u001b[0mbes_unique_list\u001b[0m\u001b[0;34m,\u001b[0m \u001b[0mmap_bes\u001b[0m\u001b[0;34m)\u001b[0m\u001b[0;34m\u001b[0m\u001b[0;34m\u001b[0m\u001b[0m\n\u001b[0;32m----> 9\u001b[0;31m     \u001b[0mprepare_sub_plot\u001b[0m\u001b[0;34m(\u001b[0m\u001b[0max2\u001b[0m\u001b[0;34m,\u001b[0m \u001b[0mrand_csv\u001b[0m\u001b[0;34m,\u001b[0m \u001b[0mrand_x_name\u001b[0m\u001b[0;34m,\u001b[0m \u001b[0my_common\u001b[0m\u001b[0;34m,\u001b[0m \u001b[0mrand_unique_list\u001b[0m\u001b[0;34m,\u001b[0m \u001b[0mmap_rand\u001b[0m\u001b[0;34m)\u001b[0m\u001b[0;34m\u001b[0m\u001b[0;34m\u001b[0m\u001b[0m\n\u001b[0m\u001b[1;32m     10\u001b[0m \u001b[0;34m\u001b[0m\u001b[0m\n\u001b[1;32m     11\u001b[0m \u001b[0;34m\u001b[0m\u001b[0m\n",
      "\u001b[0;32m<ipython-input-5-81262a67c210>\u001b[0m in \u001b[0;36mprepare_sub_plot\u001b[0;34m(ax, csv_f, x_name, y_name, unique_list, data_map)\u001b[0m\n\u001b[1;32m      7\u001b[0m                          labels=labels)  # will be used to label x-ticks\n\u001b[1;32m      8\u001b[0m \u001b[0;31m#     set_subplot_extra_options(bplot1)\u001b[0m\u001b[0;34m\u001b[0m\u001b[0;34m\u001b[0m\u001b[0;34m\u001b[0m\u001b[0m\n\u001b[0;32m----> 9\u001b[0;31m     \u001b[0mset_subplot_extra_options\u001b[0m\u001b[0;34m(\u001b[0m\u001b[0max\u001b[0m\u001b[0;34m,\u001b[0m \u001b[0mdata_map\u001b[0m\u001b[0;34m)\u001b[0m\u001b[0;34m\u001b[0m\u001b[0;34m\u001b[0m\u001b[0m\n\u001b[0m\u001b[1;32m     10\u001b[0m \u001b[0;34m\u001b[0m\u001b[0m\n\u001b[1;32m     11\u001b[0m \u001b[0;31m#     ymin, ymax = plt.ylim()\u001b[0m\u001b[0;34m\u001b[0m\u001b[0;34m\u001b[0m\u001b[0;34m\u001b[0m\u001b[0m\n",
      "\u001b[0;32m<ipython-input-4-6c7120d899a3>\u001b[0m in \u001b[0;36mset_subplot_extra_options\u001b[0;34m(ax, d_map)\u001b[0m\n\u001b[1;32m      2\u001b[0m     \u001b[0;31m#     ax.set_aspect('equal', adjustable='box')\u001b[0m\u001b[0;34m\u001b[0m\u001b[0;34m\u001b[0m\u001b[0;34m\u001b[0m\u001b[0m\n\u001b[1;32m      3\u001b[0m \u001b[0;34m\u001b[0m\u001b[0m\n\u001b[0;32m----> 4\u001b[0;31m     \u001b[0max\u001b[0m\u001b[0;34m.\u001b[0m\u001b[0mset_title\u001b[0m\u001b[0;34m(\u001b[0m\u001b[0;34mf\"{d_map['title']}\"\u001b[0m\u001b[0;34m)\u001b[0m\u001b[0;34m\u001b[0m\u001b[0;34m\u001b[0m\u001b[0m\n\u001b[0m\u001b[1;32m      5\u001b[0m     \u001b[0max\u001b[0m\u001b[0;34m.\u001b[0m\u001b[0mset_xlabel\u001b[0m\u001b[0;34m(\u001b[0m\u001b[0;34mf\"{d_map['x_label']}\"\u001b[0m\u001b[0;34m)\u001b[0m\u001b[0;34m\u001b[0m\u001b[0;34m\u001b[0m\u001b[0m\n\u001b[1;32m      6\u001b[0m     \u001b[0max\u001b[0m\u001b[0;34m.\u001b[0m\u001b[0mset_ylabel\u001b[0m\u001b[0;34m(\u001b[0m\u001b[0;34mf\"{d_map['y_label']}\"\u001b[0m\u001b[0;34m)\u001b[0m\u001b[0;34m\u001b[0m\u001b[0;34m\u001b[0m\u001b[0m\n",
      "\u001b[0;31mKeyError\u001b[0m: 'title'"
     ]
    },
    {
     "data": {
      "image/png": "[encoded data removed]",
      "text/plain": [
       "<Figure size 1080x360 with 2 Axes>"
      ]
     },
     "metadata": {
      "needs_background": "light"
     },
     "output_type": "display_data"
    }
   ],
   "source": [
    "def compare_bes_rand_given_y(bes_csv, rand_csv, bes_x_name, rand_x_name, y_common, \n",
    "                             bes_unique_list, rand_unique_list, map_bes, map_rand):\n",
    "    \n",
    "    fig, axs = plt.subplots(nrows=1, ncols=2, sharex=False, sharey=False, squeeze=False, figsize=(15, 5))\n",
    "#     plt.gca().set_aspect('equal', adjustable='box')\n",
    "    ax1, ax2 = axs[0][0], axs[0][1]\n",
    "    \n",
    "    prepare_sub_plot(ax1, bes_csv, bes_x_name, y_common, bes_unique_list, map_bes)\n",
    "    prepare_sub_plot(ax2, rand_csv, rand_x_name, y_common, rand_unique_list, map_rand)\n",
    "    \n",
    "    \n",
    "    plt.show()\n",
    "\n",
    "\n",
    "\n",
    "model_name = model_name_list[0] \n",
    "\n",
    "bes_csv = pd.read_csv(os.path.join('csvs', f'bes_{model_name}_loops.csv'))\n",
    "random_csv = pd.read_csv(os.path.join('csvs', f'random_{model_name}_loops.csv'))\n",
    "\n",
    "u_bes = get_unique_rows(bes_csv, 'depth')\n",
    "u_random = get_unique_rows(random_csv, 'requested_size')\n",
    "# print(random_csv.head(5))\n",
    "print(u_bes)\n",
    "print(u_random)\n",
    "\n",
    "map_bes= {\n",
    "    'title': 'Node coverage (NC) for BES',\n",
    "    'x_label': 'depths',\n",
    "    'y_label': 'NC'\n",
    "}\n",
    "\n",
    "map_rand = {\n",
    "    'title': 'Node coverage (NC) for RS',\n",
    "    'x_label': 'Test sizes',\n",
    "    'y_label': 'NC'\n",
    "}\n",
    "\n",
    "compare_bes_rand_given_y(bes_csv, random_csv, 'depth', 'requested_size', 'nc', u_bes, u_random, map_bes, map_rand)\n",
    "\n",
    "    \n",
    "\n"
   ]
  },
  {
   "cell_type": "code",
   "execution_count": null,
   "metadata": {},
   "outputs": [],
   "source": [
    "# test pandas\n",
    "\n",
    "\n",
    "\n",
    "elevator_bes_csv = pd.read_csv(os.path.join('csvs', f'bes_{model_name}_loops.csv'))\n",
    "elevator_random_csv = pd.read_csv(os.path.join('csvs', f'random_{model_name}_loops.csv'))\n",
    "\n",
    "# print(csv_file.head(4))\n",
    "# elevator_csv = csv_file[ csv_file['class'] == 'ElevatorSystem']\n",
    "# print(elevator_csv)\n",
    "print(\"-----------------------------\")\n",
    "depth_filter = elevator_bes_csv['depth'] == 2\n",
    "x = elevator_bes_csv[depth_filter]\n",
    "# print(x)\n",
    "print(f'sizes = {x.shape}')\n",
    "\n"
   ]
  },
  {
   "cell_type": "code",
   "execution_count": null,
   "metadata": {},
   "outputs": [],
   "source": [
    "# depths vs sizes, for every depth, a list of unique sizes\n",
    "# first Table\n",
    "unique_depths = elevator_bes_csv['depth'].unique()\n",
    "print(f'unique_depths = {unique_depths}')\n",
    "\n",
    "depth_map = {}\n",
    "for depth in unique_depths :#unique_depths:\n",
    "    filter_sizes_by_depth = elevator_bes_csv[elevator_bes_csv['depth'] == depth].total_tests.unique()\n",
    "    if len(filter_sizes_by_depth) > 1:\n",
    "        print(\"WARNING: one depth has multiple sizes\")\n",
    "    depth_map[depth] = filter_sizes_by_depth.tolist()\n",
    "\n",
    "print(depth_map)\n"
   ]
  },
  {
   "cell_type": "code",
   "execution_count": null,
   "metadata": {},
   "outputs": [],
   "source": [
    "# depth_1 = elevator_csv[elevator_csv['depth'] == 2]\n",
    "# x = pd.concat([elevator_bes_csv['total_tests'], elevator_random_csv['total_tests']], axis=1)#.boxplot()                                \n",
    "# x = pd.concat([elevator_bes_csv['total_tests'], elevator_random_csv['total_tests']], axis=3)#.boxplot()     \n",
    "# print(x.head(10))\n",
    "# nc_figure = plt.figure();\n",
    "# nc_plot = elevator_bes_csv.boxplot(by ='depth', column =['nc'], grid = False)\n",
    "# # plt.title(f\"node coverage for depths for {model_name}\")\n",
    "# # plt.suptitle(\"\")\n",
    "# nc_figure.savefig(os.path.join(\"images\",\"nc.svg\"), format=\"svg\")\n",
    "\n",
    "# elevator_bes_csv.boxplot(by ='depth', column =['ec'], grid = False)\n",
    "# plt.title(f\"edge coverage for depths for {model_name}\")\n",
    "# plt.suptitle(\"\")\n",
    "\n",
    "# elevator_bes_csv.boxplot(by ='depth', column =['time_taken'], grid = False)\n",
    "# plt.title(f\"time_taken for depths for {model_name}\")\n",
    "# # get rid of the automatic 'Boxplot grouped by group_by_column_name' title\n",
    "# plt.suptitle(\"\")\n",
    "\n",
    "\n"
   ]
  },
  {
   "cell_type": "code",
   "execution_count": null,
   "metadata": {},
   "outputs": [],
   "source": [
    "# df = DataFrame(np.random.rand(10,5))\n",
    "myFig= plt.figure()\n",
    "bp = elevator_bes_csv.boxplot(by ='depth', column =['nc'], grid = False)\n",
    "plt.title(f\"node coverage for depths for {model_name}\")\n",
    "plt.suptitle(\"\")\n",
    "plt.savefig(\"myName.svg\", format=\"svg\")\n",
    "\n",
    "plt.figure()\n",
    "bp = elevator_bes_csv.boxplot(by ='depth', column =['ec'], grid = False)\n",
    "plt.savefig(\"myName2.svg\", format=\"svg\")"
   ]
  },
  {
   "cell_type": "code",
   "execution_count": null,
   "metadata": {},
   "outputs": [],
   "source": [
    "\n",
    "# Extract 2 columns from the dataframes\n",
    "nc_unique =  elevator_bes_csv['nc'].unique()\n",
    "print(nc_unique)\n",
    "d_nc_t = elevator_bes_csv[['depth', 'nc']]\n",
    "anour = elevator_bes_csv[d_nc_t['depth'] == 1].nc.tolist()\n",
    "\n",
    "print(d_nc_t.head(5))\n",
    "# print(anour)\n",
    "\n",
    "unique_depths = elevator_bes_csv['depth'].unique()\n",
    "print(f'unique_depths = {unique_depths}')\n",
    "\n",
    "nc_list = []\n",
    "for depth in unique_depths:\n",
    "    anour = elevator_bes_csv[d_nc_t['depth'] == depth]['nc'].tolist()\n",
    "    nc_list.append(np.array(anour))\n",
    "\n",
    "print(nc_list)\n",
    "#\n",
    "# [array(28,28,....), array(71, 71, 71,...), ...]\n",
    "#\n",
    "#\n",
    "#\n",
    "\n"
   ]
  },
  {
   "cell_type": "code",
   "execution_count": null,
   "metadata": {},
   "outputs": [],
   "source": [
    "np.random.seed(19680801)\n",
    "x = [np.random.normal(0, std, size=3) for std in range(1, 4)]\n",
    "print(x)\n"
   ]
  },
  {
   "cell_type": "code",
   "execution_count": null,
   "metadata": {},
   "outputs": [],
   "source": [
    "\n",
    "title = 'Nour title'\n",
    "x_label = 'nour x labels'\n",
    "y_label = 'nour y labels'\n",
    "\n",
    "fig, axs = plt.subplots(nrows=1, ncols=2, sharex=False, sharey=False, squeeze=False, figsize=(15, 15))\n",
    "plt.gca().set_aspect('equal', adjustable='box')\n",
    "ax, s2 = axs[0][0], axs[0][1]\n",
    "\n",
    "\n",
    "all_data = elevator_bes_csv[['depth', 'nc']].to_numpy()\n",
    "all_data = []\n",
    "for depth in unique_depths:\n",
    "    anour = elevator_bes_csv[d_nc_t['depth'] == depth].nc.tolist()\n",
    "    all_data.append(np.array(anour))\n",
    "# all_data = elevator_bes_csv['nc'].to_numpy()\n",
    "# print(all_data)\n",
    "labels = unique_depths #['x1', 'x2']\n",
    "bplot1 = ax.boxplot(all_data,\n",
    "                     vert=True,  # vertical box alignment\n",
    "                     patch_artist=True,  # fill with color\n",
    "                     labels=labels)  # will be used to label x-ticks\n",
    "#                    )\n",
    "plt.show()\n",
    "\n"
   ]
  },
  {
   "cell_type": "code",
   "execution_count": null,
   "metadata": {},
   "outputs": [],
   "source": [
    "\n",
    "# ax.set_title(f'{title}.')\n",
    "# ax.set_xlim([0, 100])\n",
    "# ax.set_xlabel(x_label)\n",
    "# ax.set_ylim([0, 100])\n",
    "# ax.set_ylabel(y_label)\n",
    "# ax.grid(True)\n",
    "# bp = elevator_bes_csv.boxplot(by ='depth', column =['nc'], grid = False)\n",
    "\n",
    "# ax.plot(x, y, 'o', label=point_label)\n",
    "# ax.plot(x, res.intercept + res.slope*x, 'r', label=f'p-value: {res.pvalue:.3e}')\n",
    "# ax.set_aspect('equal', adjustable='box')\n",
    "# ax.legend()\n",
    "# fig.suptitle(\"suptitle\", y=0.68)\n",
    "#plt.subplots_adjust()"
   ]
  },
  {
   "cell_type": "code",
   "execution_count": null,
   "metadata": {},
   "outputs": [],
   "source": [
    "# have a list of uniques depthes\n",
    "# then for each depth a box plot of coverage of it and the corresponding depth\n",
    "\n",
    "\n",
    "\n",
    "#make sure that the random didn't get a timeout before a depth\n",
    "\n",
    "\n",
    "\n",
    "\n",
    "\n",
    "\n",
    "\n",
    "\n",
    "\n",
    "\n",
    "\n",
    "\n",
    "\n",
    "\n"
   ]
  }
 ],
 "metadata": {
  "kernelspec": {
   "display_name": "Python 3",
   "language": "python",
   "name": "python3"
  },
  "language_info": {
   "codemirror_mode": {
    "name": "ipython",
    "version": 3
   },
   "file_extension": ".py",
   "mimetype": "text/x-python",
   "name": "python",
   "nbconvert_exporter": "python",
   "pygments_lexer": "ipython3",
   "version": "3.6.8"
  }
 },
 "nbformat": 4,
 "nbformat_minor": 5
}
