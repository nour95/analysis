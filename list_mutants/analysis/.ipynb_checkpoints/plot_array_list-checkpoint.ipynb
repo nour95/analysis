{
 "cells": [
  {
   "cell_type": "code",
   "execution_count": 1,
   "metadata": {},
   "outputs": [
    {
     "name": "stderr",
     "output_type": "stream",
     "text": [
      "In /home/nour/.local/lib/python3.6/site-packages/matplotlib/mpl-data/stylelib/_classic_test.mplstyle: \n",
      "The savefig.frameon rcparam was deprecated in Matplotlib 3.1 and will be removed in 3.3.\n",
      "In /home/nour/.local/lib/python3.6/site-packages/matplotlib/mpl-data/stylelib/_classic_test.mplstyle: \n",
      "The verbose.level rcparam was deprecated in Matplotlib 3.1 and will be removed in 3.3.\n",
      "In /home/nour/.local/lib/python3.6/site-packages/matplotlib/mpl-data/stylelib/_classic_test.mplstyle: \n",
      "The verbose.fileo rcparam was deprecated in Matplotlib 3.1 and will be removed in 3.3.\n"
     ]
    },
    {
     "ename": "FileNotFoundError",
     "evalue": "[Errno 2] No such file or directory: 'merged_mutants/ArrayList'",
     "output_type": "error",
     "traceback": [
      "\u001b[0;31m---------------------------------------------------------------------------\u001b[0m",
      "\u001b[0;31mFileNotFoundError\u001b[0m                         Traceback (most recent call last)",
      "\u001b[0;32m<ipython-input-1-e28e957afc28>\u001b[0m in \u001b[0;36m<module>\u001b[0;34m\u001b[0m\n\u001b[1;32m     10\u001b[0m \u001b[0;34m\u001b[0m\u001b[0m\n\u001b[1;32m     11\u001b[0m \u001b[0mmodel_name\u001b[0m \u001b[0;34m=\u001b[0m \u001b[0;34mf'{model_name_list[0].lower()}'\u001b[0m \u001b[0;31m# ArrayList:\u001b[0m\u001b[0;34m\u001b[0m\u001b[0;34m\u001b[0m\u001b[0m\n\u001b[0;32m---> 12\u001b[0;31m \u001b[0mall_mutants\u001b[0m \u001b[0;34m=\u001b[0m \u001b[0mlist_dir\u001b[0m\u001b[0;34m(\u001b[0m\u001b[0mjoin_path\u001b[0m\u001b[0;34m(\u001b[0m\u001b[0;34m\"merged_mutants\"\u001b[0m\u001b[0;34m,\u001b[0m \u001b[0;34mf'{system_map[model_name][0]}'\u001b[0m\u001b[0;34m)\u001b[0m\u001b[0;34m)\u001b[0m\u001b[0;34m\u001b[0m\u001b[0;34m\u001b[0m\u001b[0m\n\u001b[0m\u001b[1;32m     13\u001b[0m \u001b[0;34m\u001b[0m\u001b[0m\n\u001b[1;32m     14\u001b[0m \u001b[0mprint\u001b[0m\u001b[0;34m(\u001b[0m\u001b[0mall_mutants\u001b[0m\u001b[0;34m)\u001b[0m\u001b[0;34m\u001b[0m\u001b[0;34m\u001b[0m\u001b[0m\n",
      "\u001b[0;32m/media/nour/Seagate Exp/linux_files/analysis/mutants_lists/analysis/general_plot.py\u001b[0m in \u001b[0;36mlist_dir\u001b[0;34m(path)\u001b[0m\n\u001b[1;32m     28\u001b[0m \u001b[0;34m\u001b[0m\u001b[0m\n\u001b[1;32m     29\u001b[0m \u001b[0;32mdef\u001b[0m \u001b[0mlist_dir\u001b[0m\u001b[0;34m(\u001b[0m\u001b[0mpath\u001b[0m\u001b[0;34m)\u001b[0m\u001b[0;34m:\u001b[0m\u001b[0;34m\u001b[0m\u001b[0;34m\u001b[0m\u001b[0m\n\u001b[0;32m---> 30\u001b[0;31m     \u001b[0;32mreturn\u001b[0m \u001b[0;34m[\u001b[0m\u001b[0mp\u001b[0m \u001b[0;32mfor\u001b[0m \u001b[0mp\u001b[0m \u001b[0;32min\u001b[0m \u001b[0mos\u001b[0m\u001b[0;34m.\u001b[0m\u001b[0mlistdir\u001b[0m\u001b[0;34m(\u001b[0m\u001b[0mpath\u001b[0m\u001b[0;34m)\u001b[0m \u001b[0;32mif\u001b[0m \u001b[0mp\u001b[0m\u001b[0;34m[\u001b[0m\u001b[0;36m0\u001b[0m\u001b[0;34m]\u001b[0m \u001b[0;34m!=\u001b[0m \u001b[0;34m'.'\u001b[0m\u001b[0;34m]\u001b[0m\u001b[0;34m\u001b[0m\u001b[0;34m\u001b[0m\u001b[0m\n\u001b[0m\u001b[1;32m     31\u001b[0m \u001b[0;34m\u001b[0m\u001b[0m\n\u001b[1;32m     32\u001b[0m \u001b[0;32mdef\u001b[0m \u001b[0mjoin_path\u001b[0m\u001b[0;34m(\u001b[0m\u001b[0;34m*\u001b[0m\u001b[0mpaths\u001b[0m\u001b[0;34m)\u001b[0m\u001b[0;34m:\u001b[0m\u001b[0;34m\u001b[0m\u001b[0;34m\u001b[0m\u001b[0m\n",
      "\u001b[0;31mFileNotFoundError\u001b[0m: [Errno 2] No such file or directory: 'merged_mutants/ArrayList'"
     ]
    }
   ],
   "source": [
    "import os \n",
    "import csv\n",
    "import pandas as pd\n",
    "import numpy as np\n",
    "import matplotlib\n",
    "import matplotlib.pyplot as plt\n",
    "from general_plot import *\n",
    "\n",
    "\n",
    "\n",
    "model_name = f'{model_name_list[0].lower()}' # ArrayList: \n",
    "all_mutants = list_dir(join_path(\"merged_mutants\", f'{system_map[model_name][0]}'))\n",
    "\n",
    "print(all_mutants)\n",
    "\n"
   ]
  },
  {
   "cell_type": "code",
   "execution_count": null,
   "metadata": {},
   "outputs": [],
   "source": [
    "bes_lo_k_csv = pd.read_csv(os.path.join('csvs', f'killed_{model_name}_bes_loops.csv'))\n",
    "rand_lo_k_csv = pd.read_csv(os.path.join('csvs', f'killed_{model_name}_random_loops.csv'))\n",
    "\n",
    "bes_no_lo_k_csv = pd.read_csv(os.path.join('csvs', f'killed_{model_name}_bes_no_loops.csv'))\n",
    "rand_no_lo_k_csv = pd.read_csv(os.path.join('csvs', f'killed_{model_name}_random_no_loops.csv'))\n",
    "\n",
    "dfs = (bes_lo_k_csv, rand_lo_k_csv, bes_no_lo_k_csv, rand_no_lo_k_csv)"
   ]
  },
  {
   "cell_type": "code",
   "execution_count": null,
   "metadata": {},
   "outputs": [],
   "source": [
    "#calculate mutation score for each model = killed / all mutants\n",
    "ms_bes_l = get_mutation_score(bes_lo_k_csv, all_mutants)\n",
    "ms_rand_l = get_mutation_score(rand_lo_k_csv, all_mutants)\n",
    "ms_bes_no_l = get_mutation_score(bes_no_lo_k_csv, all_mutants)\n",
    "ms_rand_no_l = get_mutation_score(rand_no_lo_k_csv, all_mutants)\n",
    "\n",
    "print(f'mutation score for bes_loop in model {model_name}: {ms_bes_l[1]} of {ms_bes_l[2]} = {ms_bes_l[0]*100}%')\n",
    "print(f'mutation score for rand_loop in model {model_name}: {ms_rand_l[1]} of {ms_rand_l[2]} = {ms_rand_l[0]*100}%')\n",
    "print(f'mutation score for bes_no_loop in model {model_name}: {ms_bes_no_l[1]} of {ms_bes_no_l[2]} = {ms_bes_no_l[0]*100}%')                    \n",
    "print(f'mutation score for rand_no_loop in model {model_name}: {ms_rand_no_l[1]} of {ms_rand_no_l[2]} = {ms_rand_no_l[0]*100}%')\n",
    "\n",
    "\n"
   ]
  },
  {
   "cell_type": "code",
   "execution_count": null,
   "metadata": {},
   "outputs": [],
   "source": [
    "m_lists = get_killed_mutant_all(dfs)\n",
    "(bes_m_l_list, rand_m_l_list, bes_m_no_l_list, rand_m_no_l_list) = m_lists \n",
    "\n",
    "d_map = {\n",
    "    'bar_width' : 0.5, \n",
    "    'x_distance': 3,\n",
    "    'fig_width' : 25,\n",
    "    'fig_hight' : 5,\n",
    "    'x_lim' : 50,\n",
    "    'y_lim' : 80,\n",
    "    \n",
    "    'x_label': 'Killed mutant number', \n",
    "    'y_label': 'UnKnown', \n",
    "    'title': f\"The different algorithms' performance on killed mutant for {model_name}\",\n",
    "    \n",
    "    'bes_l_label': 'bes_loops',\n",
    "    'random_l_label': 'random_loops',\n",
    "    'bes_no_l_label': 'bes_no_self_loops',\n",
    "    'random_no_l_label': 'random_no_self_loops' ,\n",
    "    \n",
    "    'model_name': model_name, \n",
    "    'comp_type' : \"unknown\"\n",
    "    \n",
    "    \n",
    "}\n",
    "\n",
    "\n"
   ]
  },
  {
   "cell_type": "code",
   "execution_count": null,
   "metadata": {},
   "outputs": [],
   "source": [
    "\n",
    "#################################\n",
    "## Manually:\n",
    "#################################\n",
    "\n",
    "# actual_size\n",
    "\n",
    "desired_mutants = m_lists[0]    #[0:6]\n",
    "print(f'all_common_mutants: {desired_mutants}')\n",
    "\n",
    "y = [ x for x in desired_mutants if x not in ['76', '81'] ]\n",
    "desired_mutants = y\n",
    "\n",
    "\n",
    "labels = desired_mutants\n",
    "print(f'labels: {labels}')\n",
    "\n",
    "creteria =  'actual_tests'# 'time_taken' # 'actual_tests'\n",
    "\n",
    "c_lists = get_cretiera_all_desired_m(dfs, desired_mutants, creteria, 0)\n",
    "(bes_lo_c, rand_lo_c, bes_no_lo_c, rand_no_lo_c) = c_lists\n",
    "\n",
    "d_map['y_label'] = \"Actual number of tests needed\"\n",
    "d_map['comp_type'] = creteria\n",
    "\n",
    "d_map['x_lim'] = 51\n",
    "d_map['y_lim'] = 83\n",
    "\n",
    "plot_4_bars(labels, c_lists, d_map)\n"
   ]
  },
  {
   "cell_type": "code",
   "execution_count": null,
   "metadata": {},
   "outputs": [],
   "source": [
    "# time_requierd\n",
    "\n",
    "# desired_mutants = m_lists[0][0:6]\n",
    "desired_mutants = m_lists[0]\n",
    "\n",
    "\n",
    "labels = desired_mutants\n",
    "print(f'labels: {labels}')\n",
    "\n",
    "creteria =  'time_taken'# 'time_taken' # 'actual_tests'\n",
    "\n",
    "c_lists = get_cretiera_all_desired_m(dfs, desired_mutants, creteria, 0)\n",
    "(bes_lo_c, rand_lo_c, bes_no_lo_c, rand_no_lo_c) = c_lists\n",
    "\n",
    "d_map['comp_type'] = creteria\n",
    "\n",
    "d_map['y_label'] = \"Time taken until mutant get discovered\"\n",
    "\n",
    "# 'bar_width' : 0.5, \n",
    "#     'x_distance': 3,\n",
    "#     'fig_width' : 10,\n",
    "#     'fig_hight' : 5,\n",
    "d_map['x_lim'] = 56\n",
    "d_map['y_lim'] = 4.5\n",
    "\n",
    "plot_4_bars(labels, c_lists, d_map)\n",
    "\n"
   ]
  },
  {
   "cell_type": "code",
   "execution_count": null,
   "metadata": {},
   "outputs": [],
   "source": [
    "# depth\n",
    "creteria = 'depth'\n",
    "c_lists = get_cretiera_only_2(dfs, desired_mutants, creteria, 0)\n",
    "(bes_lo_c, bes_no_lo_c) = c_lists\n",
    "\n",
    "d_map['comp_type'] = creteria\n",
    "\n",
    "d_map['y_label'] = \"Time taken until mutant get discovered\"\n",
    "\n",
    "# 'bar_width' : 0.5, \n",
    "#     'x_distance': 3,\n",
    "#     'fig_width' : 10,\n",
    "#     'fig_hight' : 5,\n",
    "#     'x_lim' = 25\n",
    "d_map['y_lim'] = 8\n",
    "\n",
    "\n",
    "plot_2_bars(labels, c_lists, d_map)\n",
    "\n"
   ]
  }
 ],
 "metadata": {
  "kernelspec": {
   "display_name": "Python 3",
   "language": "python",
   "name": "python3"
  },
  "language_info": {
   "codemirror_mode": {
    "name": "ipython",
    "version": 3
   },
   "file_extension": ".py",
   "mimetype": "text/x-python",
   "name": "python",
   "nbconvert_exporter": "python",
   "pygments_lexer": "ipython3",
   "version": "3.6.8"
  }
 },
 "nbformat": 4,
 "nbformat_minor": 4
}
